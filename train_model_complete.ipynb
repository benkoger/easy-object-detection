{
 "cells": [
  {
   "cell_type": "markdown",
   "metadata": {},
   "source": [
    "This assumes that you already had .xml annotation files with one xml file per annotated frame given by rectlabel.  If you are using exported loopy annotations, you can use loppy_to_PASCAL.ipynb to convert the loopy annotations into the correct format."
   ]
  },
  {
   "cell_type": "code",
   "execution_count": 1,
   "metadata": {},
   "outputs": [],
   "source": [
    "import numpy as np\n",
    "import os\n",
    "import tensorflow as tf\n",
    "from annotation_summary import get_annotation_summary\n",
    "from create_label_map import create_label_map\n",
    "from create_train_val import create_train_val\n",
    "from create_tf_record import create_all_tf_records"
   ]
  },
  {
   "cell_type": "code",
   "execution_count": 2,
   "metadata": {},
   "outputs": [],
   "source": [
    "#This is a folder with gazelle images and, within it, a folder called 'annotations' that has the .xml annotation files.\n",
    "base_folder = '/home/golden/Projects_desktop/kenya-tracking/models/test'\n",
    "image_folder = '/home/golden/demo_model_training/gazelle_images'\n",
    "\n",
    "annotations_folder = os.path.join(image_folder, 'annotations')\n",
    "\n",
    "# choose the 'pets' version of the model you are using here: \n",
    "# https://github.com/tensorflow/models/tree/master/research/object_detection/samples/configs\n",
    "# one way to create the file is just copy and paste into a local text file\n",
    "sample_config_file = '/home/golden/demo_model_training/faster_rcnn_resnet101_pets.config'\n"
   ]
  },
  {
   "cell_type": "code",
   "execution_count": 3,
   "metadata": {},
   "outputs": [
    {
     "name": "stdout",
     "output_type": "stream",
     "text": [
      "There are 336 .xml annotation files in the given folder.\n",
      "{'head': 336}\n"
     ]
    }
   ],
   "source": [
    "class_counts = get_annotation_summary(annotations_folder)"
   ]
  },
  {
   "cell_type": "code",
   "execution_count": 4,
   "metadata": {},
   "outputs": [
    {
     "name": "stdout",
     "output_type": "stream",
     "text": [
      "['head']\n"
     ]
    }
   ],
   "source": [
    "#This is a list of the class names you want to use to clasiify the objects in the images.\n",
    "#Generally they are the same as the classes that you annotated \n",
    "class_names = ['head']\n",
    "class_names = list(class_counts.keys())\n",
    "print(class_names)"
   ]
  },
  {
   "cell_type": "code",
   "execution_count": 5,
   "metadata": {},
   "outputs": [],
   "source": [
    "#create nessisrary new folders\n",
    "data_folder = os.path.join(base_folder, 'data')\n",
    "model_folder = os.path.join(base_folder, 'model')\n",
    "if not os.path.exists(data_folder):\n",
    "    os.makedirs(data_folder)\n",
    "if not os.path.exists(model_folder):\n",
    "    os.makedirs(model_folder)\n",
    "    os.makedirs(os.path.join(base_folder, 'train'))\n",
    "    os.makedirs(os.path.join(base_folder, 'eval'))\n"
   ]
  },
  {
   "cell_type": "code",
   "execution_count": 6,
   "metadata": {},
   "outputs": [],
   "source": [
    "label_map_file = create_label_map(data_folder, class_names)"
   ]
  },
  {
   "cell_type": "code",
   "execution_count": 7,
   "metadata": {},
   "outputs": [],
   "source": [
    "create_train_val(annotations_folder)"
   ]
  },
  {
   "cell_type": "code",
   "execution_count": 8,
   "metadata": {},
   "outputs": [
    {
     "name": "stdout",
     "output_type": "stream",
     "text": [
      "235 training and 102 validation examples.\n"
     ]
    },
    {
     "name": "stderr",
     "output_type": "stream",
     "text": [
      "/home/golden/tf-models/research/object_detection/utils/dataset_util.py:75: FutureWarning: The behavior of this method will change in future versions. Use specific 'len(elem)' or 'elem is not None' test instead.\n",
      "  if not xml:\n",
      "WARNING:root:Could not find /home/golden/demo_model_training/gazelle_images/annotations/trainval.xml, ignoring example.\n"
     ]
    }
   ],
   "source": [
    "fraction_of_examples_for_evaluation_set = .3\n",
    "\n",
    "create_all_tf_records(image_folder, label_map_file, data_folder,\n",
    "                      fraction_of_examples_for_evaluation_set)"
   ]
  },
  {
   "cell_type": "markdown",
   "metadata": {},
   "source": [
    "# Now you have to do stuff"
   ]
  },
  {
   "cell_type": "markdown",
   "metadata": {},
   "source": [
    "## First download the model you want from the tf model zoo:"
   ]
  },
  {
   "cell_type": "markdown",
   "metadata": {},
   "source": [
    "Go to https://github.com/tensorflow/models/blob/master/research/object_detection/g3doc/detection_model_zoo.md\n",
    "and download the model you want. This tutorial assumes 'faster_rcnn_resnet101_coco' but choose as you want. Copy and paste the contents of the resulting folder (but not the actual folder) into the folder written in the ouput of the cell bellow."
   ]
  },
  {
   "cell_type": "code",
   "execution_count": 33,
   "metadata": {},
   "outputs": [
    {
     "name": "stdout",
     "output_type": "stream",
     "text": [
      "copy the contents of the downloaded model folder into the following folder:\n",
      "/home/golden/Projects_desktop/kenya-tracking/models/v2_model/model\n"
     ]
    }
   ],
   "source": [
    "print('copy the contents of the downloaded model folder into the following folder:')\n",
    "print(model_folder)"
   ]
  },
  {
   "cell_type": "markdown",
   "metadata": {},
   "source": [
    "## Now you must edit the model .config file to match your use. "
   ]
  },
  {
   "cell_type": "markdown",
   "metadata": {},
   "source": [
    "Now you must edit the model pipeline.config file that you just downloaded and moved to match your use. The config file should be edited as described in the output of the following cell."
   ]
  },
  {
   "cell_type": "code",
   "execution_count": 34,
   "metadata": {},
   "outputs": [
    {
     "name": "stdout",
     "output_type": "stream",
     "text": [
      "The .config file should be in this folder:  /home/golden/Projects_desktop/kenya-tracking/models/v2_model/model\n",
      "The following edits should be made to the .config file:\n",
      "\n",
      "Near the top of the file, the line that begins 'num_classes' should be changed to...\n",
      "num_classes: 5\n",
      "\n",
      "The line that begins 'fine_tune_checkpoint' should be changed to...\n",
      "fine_tune_checkpoint: \"/home/golden/Projects_desktop/kenya-tracking/models/v2_model/model/model.ckpt\"\n",
      "\n",
      "Very important.  If you don' include next line model will train forever.\n",
      "Beneath the line that says 'from_detection_checkpoint: true' add the following line at the same indent as the above line (if running on gazelle head demo)\n",
      "num_steps: 5000\n",
      "\n",
      "The line that begins 'label_map_path' should be changed to...\n",
      "label_map_path: \"/home/golden/Projects_desktop/kenya-tracking/models/v2_model/data/label_map.pbtxt\"\n",
      "\n",
      "Within the braces ({}) labeled 'train_input_reader' \n",
      "The line that begins 'input_path' should be changed to...\n",
      "input_path: \"/home/golden/Projects_desktop/kenya-tracking/models/v2_model/data/train.record\"\n",
      "\n",
      "The line that begins 'label_map_path' should be changed to...\n",
      "label_map_path: \"/home/golden/Projects_desktop/kenya-tracking/models/v2_model/data/label_map.pbtxt\"\n",
      "\n",
      "Within the braces ({}) labeled 'eval_input_reader' \n",
      "The line that begins 'input_path' should be changed to...\n",
      "input_path: \"/home/golden/Projects_desktop/kenya-tracking/models/v2_model/data/val.record\"\n",
      "\n"
     ]
    }
   ],
   "source": [
    "print('The .config file should be in this folder: ', model_folder)\n",
    "print('The following edits should be made to the .config file:')\n",
    "print()\n",
    "print('Near the top of the file, the line that begins \\'num_classes\\' should be changed to...')\n",
    "print('num_classes:', len(class_names))\n",
    "print()\n",
    "print('The line that begins \\'fine_tune_checkpoint\\' should be changed to...')\n",
    "print('fine_tune_checkpoint: \"' + os.path.join(model_folder, 'model.ckpt') + '\"')\n",
    "print()\n",
    "print('Very important.  If you don\\' include next line model will train forever.')\n",
    "print('Beneath the line that says \\'from_detection_checkpoint: true\\' add the following line at the same indent as the above line (if running on gazelle head demo)')\n",
    "print('num_steps: 5000')\n",
    "print()\n",
    "print('The line that begins \\'label_map_path\\' should be changed to...')\n",
    "print('label_map_path: \"' + os.path.join(data_folder, 'label_map.pbtxt') + '\"')\n",
    "print()\n",
    "print('Within the braces ({}) labeled \\'train_input_reader\\' ')\n",
    "print('The line that begins \\'input_path\\' should be changed to...')\n",
    "print('input_path: \"' + os.path.join(data_folder, 'train.record') + '\"')\n",
    "print()\n",
    "print('The line that begins \\'label_map_path\\' should be changed to...')\n",
    "print('label_map_path: \"' + os.path.join(data_folder, 'label_map.pbtxt') + '\"')\n",
    "print()\n",
    "print('Within the braces ({}) labeled \\'eval_input_reader\\' ')\n",
    "print('The line that begins \\'input_path\\' should be changed to...')\n",
    "print('input_path: \"' + os.path.join(data_folder, 'val.record') + '\"')\n",
    "print()"
   ]
  },
  {
   "cell_type": "markdown",
   "metadata": {},
   "source": [
    "Now you are ready to train the model"
   ]
  },
  {
   "cell_type": "code",
   "execution_count": 4,
   "metadata": {},
   "outputs": [],
   "source": [
    "def run_training(train_py, eval_py, pipeline_config, train_dir, eval_dir, gpu_count=1, name=None):  \n",
    "    print('running ', name)\n",
    "    %env CUDA_VISIBLE_DEVICES=0\n",
    "    train_process = subprocess.Popen(['python', train_py,\n",
    "                            '--logtostderr', \n",
    "                            '--pipeline_config_path=' + pipeline_config,\n",
    "                            '--train_dir=' + train_dir],\n",
    "                            preexec_fn=os.setsid)\n",
    "    if gpu_count > 1:\n",
    "\n",
    "        time.sleep(60)\n",
    "\n",
    "        %env CUDA_VISIBLE_DEVICES=1\n",
    "        eval_process = subprocess.Popen(['python', eval_py,\n",
    "                                '--logtostderr', \n",
    "                                '--pipeline_config_path=' + pipeline_config,\n",
    "                                '--checkpoint_dir=' + train_dir,\n",
    "                                '--eval_dir=' + eval_dir],\n",
    "                                preexec_fn=os.setsid)\n",
    "\n",
    "    train_process.wait()\n",
    "    \n",
    "    if gpu_count > 1:\n",
    "\n",
    "        print('sleeping')\n",
    "\n",
    "        time.sleep(180)\n",
    "\n",
    "        print('shutting down eval')\n",
    "        \n",
    "        print('killing eval...')\n",
    "\n",
    "        os.killpg(os.getpgid(eval_process.pid), signal.SIGTERM)\n",
    "    \n",
    "    time.sleep(30)"
   ]
  },
  {
   "cell_type": "code",
   "execution_count": 5,
   "metadata": {},
   "outputs": [],
   "source": [
    "import subprocess\n",
    "import signal\n",
    "import time\n",
    "\n",
    "#these must be changed to match where these files are saved on your computer\n",
    "train_py = '/home/golden/tf-models/research/object_detection/train.py'   \n",
    "eval_py = '/home/golden/tf-models/research/object_detection/eval.py'    \n",
    "\n",
    "pipeline_config = os.path.join(model_folder, 'pipeline.config')\n",
    "train_dir = os.path.join(base_folder, 'train') \n",
    "eval_dir = os.path.join(base_folder, 'eval')\n"
   ]
  },
  {
   "cell_type": "code",
   "execution_count": 6,
   "metadata": {},
   "outputs": [
    {
     "name": "stdout",
     "output_type": "stream",
     "text": [
      "running  \n",
      "env: CUDA_VISIBLE_DEVICES=0\n",
      "env: CUDA_VISIBLE_DEVICES=1\n",
      "sleeping\n",
      "shutting down eval\n",
      "killing eval...\n"
     ]
    }
   ],
   "source": [
    "#only runs eval if two GPUs\n",
    "gpu_count = 2\n",
    "\n",
    "run_training(train_py, eval_py, pipeline_config, train_dir, eval_dir, gpu_count, name='')"
   ]
  },
  {
   "cell_type": "markdown",
   "metadata": {},
   "source": [
    "You can monitor training by running the following output in the terminal: "
   ]
  },
  {
   "cell_type": "code",
   "execution_count": null,
   "metadata": {},
   "outputs": [],
   "source": [
    "print('tensorboard --logdir=\"' + base_folder + '\"')"
   ]
  },
  {
   "cell_type": "markdown",
   "metadata": {},
   "source": [
    "# Export Graph"
   ]
  },
  {
   "cell_type": "code",
   "execution_count": 7,
   "metadata": {},
   "outputs": [
    {
     "data": {
      "text/plain": [
       "<subprocess.Popen at 0x7f5ff12ab908>"
      ]
     },
     "execution_count": 7,
     "metadata": {},
     "output_type": "execute_result"
    }
   ],
   "source": [
    "#these must be changed to match where these files are saved on your computer\n",
    "export_py = '/home/golden/tf-models/research/object_detection/export_inference_graph.py'\n",
    "#choose step number to export (in train folder)\n",
    "step_num = 120000\n",
    "\n",
    "subprocess.Popen(['python', export_py,\n",
    "                '--input_type image_tensor', \n",
    "                '--pipeline_config_path=' + pipeline_config,\n",
    "                '--trained_checkpoint_prefix=' + os.path.join(train_dir, 'model.ckpt-' + str(step_num)),\n",
    "                '--output_directory=' + os.path.join(base_folder, 'out_put_inference_graph.pb')],\n",
    "                preexec_fn=os.setsid)\n",
    "\n"
   ]
  },
  {
   "cell_type": "code",
   "execution_count": null,
   "metadata": {},
   "outputs": [],
   "source": []
  }
 ],
 "metadata": {
  "kernelspec": {
   "display_name": "Python 3",
   "language": "python",
   "name": "python3"
  },
  "language_info": {
   "codemirror_mode": {
    "name": "ipython",
    "version": 3
   },
   "file_extension": ".py",
   "mimetype": "text/x-python",
   "name": "python",
   "nbconvert_exporter": "python",
   "pygments_lexer": "ipython3",
   "version": "3.5.2"
  }
 },
 "nbformat": 4,
 "nbformat_minor": 2
}
